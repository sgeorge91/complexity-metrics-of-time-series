{
 "cells": [
  {
   "cell_type": "code",
   "execution_count": 1,
   "id": "318f2fc3",
   "metadata": {},
   "outputs": [],
   "source": [
    "import scipy as sp\n",
    "import numpy as np\n",
    "from scipy.integrate import odeint\n",
    "import random\n",
    "import neurokit2 as nk\n",
    "import frappy as fp\n",
    "import scipy.stats as sts\n",
    "import pyunicorn.timeseries as put\n",
    "import hfda\n",
    "import matplotlib.pyplot as plt\n",
    "import frappy as fp"
   ]
  },
  {
   "cell_type": "code",
   "execution_count": 2,
   "id": "6b509365",
   "metadata": {},
   "outputs": [],
   "source": [
    "def rossler_system(current_state, t, n=0):\n",
    "    x, y, z = current_state\n",
    "    a = .1\n",
    "    b = .1\n",
    "    c = 14.\n",
    "    dx_dt =-y - z +n*random.gauss(0,n*rsd)\n",
    "    dy_dt = x + a*y\n",
    "    dz_dt = b+ z*(x-c)\n",
    "    \n",
    "    return [dx_dt, dy_dt, dz_dt]"
   ]
  },
  {
   "cell_type": "code",
   "execution_count": 3,
   "id": "fd9b9bea",
   "metadata": {},
   "outputs": [],
   "source": [
    "def funct1(x,y,z,var):\n",
    "    xd=(-y-z)+np.random.normal(0,var)\n",
    "    return xd"
   ]
  },
  {
   "cell_type": "code",
   "execution_count": 4,
   "id": "3dd1a926",
   "metadata": {},
   "outputs": [],
   "source": [
    "def funct2(x,y,z,var):\n",
    "    a=0.1\n",
    "    yd= (x+(a*y))+np.random.normal(0,var)\n",
    "    return yd"
   ]
  },
  {
   "cell_type": "code",
   "execution_count": 49,
   "id": "4061ae82",
   "metadata": {},
   "outputs": [],
   "source": [
    "def funct3(x,y,z,var):\n",
    "    b=.1\n",
    "    c=4\n",
    "    zd=(b+z*(x-c))+np.random.normal(0,var)\n",
    "    return zd"
   ]
  },
  {
   "cell_type": "code",
   "execution_count": 6,
   "id": "f8ee4112",
   "metadata": {},
   "outputs": [],
   "source": [
    "def rk(n1):\n",
    "    n=11000\n",
    "    h=.1\n",
    "    x1=[]\n",
    "    t1=[]\n",
    "    x=random.uniform(0,1)\n",
    "    y=random.uniform(0,1)\n",
    "    z=random.uniform(1,2)\n",
    "    k11=k12=k13=k21=k22=k23=k31=k32=k33=k41=k42=k43=0\n",
    "    for i in range(0,n):\n",
    "        k11=funct1(x,y,z,n1*rsd)\n",
    "        k12=funct2(x,y,z,n1*rsd)\n",
    "        k13=funct3(x,y,z,n1*rsd)\n",
    "        \n",
    "        k21=funct1(x+(.5*h*k11),y+(k12*.5*h),z+(k13*.5*h),n1*rsd)\n",
    "        k22=funct2(x+(.5*h*k11),y+(k12*.5*h),z+(k13*.5*h),n1*rsd)\n",
    "        k23=funct3(x+(.5*h*k11),y+(k12*.5*h),z+(k13*.5*h),n1*rsd)\n",
    "        \n",
    "        k31=funct1(x+(.5*h*k21),y+(k22*.5*h),z+(k23*.5*h),n1*rsd)\n",
    "        k32=funct2(x+(.5*h*k21),y+(k22*.5*h),z+(k23*.5*h),n1*rsd)\n",
    "        k33=funct3(x+(.5*h*k21),y+(k22*.5*h),z+(k23*.5*h),n1*rsd)\n",
    "        \n",
    "        k41=funct1(x+(h*k31),y+(k32*h),z+(k33*h),n1*rsd)\n",
    "        k42=funct2(x+(h*k31),y+(k32*h),z+(k33*h),n1*rsd)\n",
    "        k43=funct3(x+(h*k31),y+(k32*h),z+(k33*h),n1*rsd)\n",
    "        \n",
    "        x=x+((k11+(2*(k21+k31))+k41)*h/6.0)\n",
    "        y=y+((k12+(2*(k22+k32))+k42)*h/6.0)\n",
    "        z=z+((k13+(2*(k23+k33))+k43)*h/6.0)\n",
    "        if(i>=1000):\n",
    "            t1.append(i*h)\n",
    "            x1.append(x)\n",
    "    return(np.array(x1))"
   ]
  },
  {
   "cell_type": "code",
   "execution_count": 7,
   "id": "dc98f9a7",
   "metadata": {},
   "outputs": [],
   "source": [
    "rsd=11.71"
   ]
  },
  {
   "cell_type": "code",
   "execution_count": 8,
   "id": "88d7c5f4",
   "metadata": {},
   "outputs": [],
   "source": [
    "x = rk(0)"
   ]
  },
  {
   "cell_type": "code",
   "execution_count": 9,
   "id": "09a227fd",
   "metadata": {},
   "outputs": [],
   "source": [
    "rn=np.random.normal(0,1,10000)"
   ]
  },
  {
   "cell_type": "code",
   "execution_count": 10,
   "id": "ae4532d5",
   "metadata": {},
   "outputs": [],
   "source": [
    "x1p=x+(np.random.normal(0,.01*rsd,10000))\n",
    "x5p=x+(np.random.normal(0,.05*rsd,10000))\n",
    "x10p=x+(np.random.normal(0,.1*rsd,10000))"
   ]
  },
  {
   "cell_type": "code",
   "execution_count": 11,
   "id": "97cfbf6f",
   "metadata": {},
   "outputs": [
    {
     "data": {
      "text/plain": [
       "1.9970436177290398"
      ]
     },
     "execution_count": 11,
     "metadata": {},
     "output_type": "execute_result"
    }
   ],
   "source": [
    "hfda.measure(rn, 10)"
   ]
  },
  {
   "cell_type": "code",
   "execution_count": 12,
   "id": "0a58ad7c",
   "metadata": {},
   "outputs": [
    {
     "data": {
      "text/plain": [
       "1.020834555570553"
      ]
     },
     "execution_count": 12,
     "metadata": {},
     "output_type": "execute_result"
    }
   ],
   "source": [
    "hfda.measure(x,10)"
   ]
  },
  {
   "cell_type": "code",
   "execution_count": 13,
   "id": "e8d2268b",
   "metadata": {},
   "outputs": [
    {
     "data": {
      "text/plain": [
       "1.0225054622331904"
      ]
     },
     "execution_count": 13,
     "metadata": {},
     "output_type": "execute_result"
    }
   ],
   "source": [
    "hfda.measure(x1p,10)"
   ]
  },
  {
   "cell_type": "code",
   "execution_count": 14,
   "id": "edd7b0c8",
   "metadata": {},
   "outputs": [
    {
     "data": {
      "text/plain": [
       "1.0641688533007219"
      ]
     },
     "execution_count": 14,
     "metadata": {},
     "output_type": "execute_result"
    }
   ],
   "source": [
    "hfda.measure(x5p,10)"
   ]
  },
  {
   "cell_type": "code",
   "execution_count": 15,
   "id": "d94a227e",
   "metadata": {},
   "outputs": [
    {
     "data": {
      "text/plain": [
       "1.1717351865923902"
      ]
     },
     "execution_count": 15,
     "metadata": {},
     "output_type": "execute_result"
    }
   ],
   "source": [
    "hfda.measure(x10p,10)"
   ]
  },
  {
   "cell_type": "code",
   "execution_count": 16,
   "id": "09b082b2",
   "metadata": {},
   "outputs": [],
   "source": [
    "mse0n = nk.complexity_mse(rn, dimension=1)[0]\n",
    "mse0 = nk.complexity_mse(x, dimension=1)[0]\n",
    "mse1 = nk.complexity_mse(x1p, dimension=1)[0]\n",
    "mse2 = nk.complexity_mse(x5p, dimension=1)[0]\n",
    "mse3 = nk.complexity_mse(x10p, dimension=1)[0]"
   ]
  },
  {
   "cell_type": "code",
   "execution_count": 17,
   "id": "e904a700",
   "metadata": {},
   "outputs": [
    {
     "name": "stdout",
     "output_type": "stream",
     "text": [
      "0.07206273273329317 0.09004426313225164 0.09004837422323936 0.09038102824247658 0.09053850909580562\n"
     ]
    }
   ],
   "source": [
    "print(mse0n,mse0,mse1,mse2,mse3)"
   ]
  },
  {
   "cell_type": "code",
   "execution_count": 18,
   "id": "9bc3fafa",
   "metadata": {},
   "outputs": [],
   "source": [
    "lzv0n,info=nk.complexity_lempelziv(rn)\n",
    "lzv0,info=nk.complexity_lempelziv(x)\n",
    "lzv1,info=nk.complexity_lempelziv(x1p)\n",
    "lzv2,info=nk.complexity_lempelziv(x5p)\n",
    "lzv3,info=nk.complexity_lempelziv(x10p)"
   ]
  },
  {
   "cell_type": "code",
   "execution_count": 19,
   "id": "27c8628b",
   "metadata": {},
   "outputs": [
    {
     "name": "stdout",
     "output_type": "stream",
     "text": [
      "1.0218250819873527 0.0651097906597923 0.06909610437365714 0.09434275789480108 0.14749360741299888\n"
     ]
    }
   ],
   "source": [
    "print(lzv0n,lzv0,lzv1,lzv2,lzv3)"
   ]
  },
  {
   "cell_type": "code",
   "execution_count": 20,
   "id": "d42257c3",
   "metadata": {},
   "outputs": [
    {
     "name": "stdout",
     "output_type": "stream",
     "text": [
      "0.09004426313225164\n"
     ]
    }
   ],
   "source": [
    "entropy = nk.complexity_mse(x, dimension=1)\n",
    "print(entropy[0])"
   ]
  },
  {
   "cell_type": "code",
   "execution_count": 21,
   "id": "8db5293f",
   "metadata": {},
   "outputs": [
    {
     "name": "stdout",
     "output_type": "stream",
     "text": [
      "Calculating recurrence plot at fixed recurrence rate...\n",
      "Calculating the supremum distance matrix...\n",
      "Calculating recurrence plot at fixed recurrence rate...\n",
      "Calculating the supremum distance matrix...\n",
      "Calculating recurrence plot at fixed recurrence rate...\n",
      "Calculating the supremum distance matrix...\n",
      "Calculating recurrence plot at fixed recurrence rate...\n",
      "Calculating the supremum distance matrix...\n"
     ]
    }
   ],
   "source": [
    "r0=put.recurrence_plot.RecurrencePlot(x,dim=3,tau=12,recurrence_rate=.1)\n",
    "q0=[r0.determinism(),r0.laminarity(),r0.diag_entropy(),r0.vert_entropy(),r0.average_diaglength(),r0.trapping_time()]\n",
    "\n",
    "r1=put.recurrence_plot.RecurrencePlot(x1p,dim=3,tau=12,recurrence_rate=.1)\n",
    "q1=[r1.determinism(),r1.laminarity(),r1.diag_entropy(),r1.vert_entropy(),r1.average_diaglength(),r1.trapping_time()]\n",
    "\n",
    "r2=put.recurrence_plot.RecurrencePlot(x5p,dim=3,tau=12,recurrence_rate=.1)\n",
    "q2=[r2.determinism(),r2.laminarity(),r2.diag_entropy(),r2.vert_entropy(),r2.average_diaglength(),r2.trapping_time()]\n",
    "\n",
    "r3=put.recurrence_plot.RecurrencePlot(x10p,dim=3,tau=12,recurrence_rate=.1)\n",
    "q3=[r3.determinism(),r3.laminarity(),r3.diag_entropy(),r3.vert_entropy(),r3.average_diaglength(),r3.trapping_time()]"
   ]
  },
  {
   "cell_type": "code",
   "execution_count": 22,
   "id": "66c00877",
   "metadata": {},
   "outputs": [
    {
     "name": "stdout",
     "output_type": "stream",
     "text": [
      "[0.9946423675211551, 0.9957509273964943, 3.331606859055002, 2.114220371185736, 27.61219885405304, 6.772903511535689] [0.990290760199378, 0.9952796669470769, 3.2754982609388357, 2.1146652848969048, 25.44331713872169, 6.7700345026505335] [0.9449273974570293, 0.9830591721184727, 2.6656490590973667, 2.161932398085257, 13.89137140203976, 6.677698495796129] [0.8906363658308917, 0.945588027237788, 2.2889412220834227, 2.2323467117479674, 8.170302719381052, 6.203072617228605]\n"
     ]
    }
   ],
   "source": [
    "print(q0,q1,q2,q3)"
   ]
  },
  {
   "cell_type": "code",
   "execution_count": 23,
   "id": "3fbfd806",
   "metadata": {},
   "outputs": [
    {
     "name": "stdout",
     "output_type": "stream",
     "text": [
      "27.61219885405304 25.44331713872169 13.89137140203976 8.170302719381052\n"
     ]
    }
   ],
   "source": [
    "print(r0.average_diaglength(),r1.average_diaglength(),r2.average_diaglength(),r3.average_diaglength())"
   ]
  },
  {
   "cell_type": "code",
   "execution_count": 24,
   "id": "987fb4a2",
   "metadata": {},
   "outputs": [
    {
     "name": "stdout",
     "output_type": "stream",
     "text": [
      "Calculating recurrence plot at fixed recurrence rate...\n",
      "Calculating the supremum distance matrix...\n"
     ]
    }
   ],
   "source": [
    "r0n=put.recurrence_plot.RecurrencePlot(rn,dim=3,tau=1,recurrence_rate=.1)\n",
    "q0n=[r0n.determinism(),r0n.laminarity(),r0n.diag_entropy(),r0n.vert_entropy(),r0n.average_diaglength(),r0n.trapping_time()]"
   ]
  },
  {
   "cell_type": "code",
   "execution_count": 25,
   "id": "676463c4",
   "metadata": {},
   "outputs": [
    {
     "data": {
      "text/plain": [
       "[0.7117203508352389,\n",
       " 0.3363941922345704,\n",
       " 1.2872208353434809,\n",
       " 1.0041634551657945,\n",
       " 2.8642441300477124,\n",
       " 2.551394444680483]"
      ]
     },
     "execution_count": 25,
     "metadata": {},
     "output_type": "execute_result"
    }
   ],
   "source": [
    "q0n"
   ]
  },
  {
   "cell_type": "code",
   "execution_count": 26,
   "id": "3b015ed8",
   "metadata": {},
   "outputs": [
    {
     "data": {
      "text/plain": [
       "1.0041634551657945"
      ]
     },
     "execution_count": 26,
     "metadata": {},
     "output_type": "execute_result"
    }
   ],
   "source": [
    "r0n.vert_entropy()"
   ]
  },
  {
   "cell_type": "code",
   "execution_count": 27,
   "id": "2ba9d30b",
   "metadata": {},
   "outputs": [],
   "source": [
    "xs=(x-min(x))/(max(x)-min(x))\n",
    "x1ps=(x1p-min(x1p))/(max(x1p)-min(x1p))\n",
    "x5ps=(x5p-min(x5p))/(max(x5p)-min(x5p))\n",
    "x10ps=(x10p-min(x10p))/(max(x10p)-min(x10p))\n",
    "rns=(rn-min(rn))/(max(rn)-min(rn))"
   ]
  },
  {
   "cell_type": "code",
   "execution_count": 28,
   "id": "c081c759",
   "metadata": {},
   "outputs": [],
   "source": [
    "sen0n,info=nk.entropy_shannon(rn,symbolize=5)\n",
    "maxen0n, _ = nk.entropy_maximum(rn)\n",
    "sen0,info=nk.entropy_shannon(xs,symbolize=5)\n",
    "maxen0, _ = nk.entropy_maximum(x)\n",
    "sen1,info=nk.entropy_shannon(x1p,symbolize=5)\n",
    "maxen1, _ = nk.entropy_maximum(x1p)\n",
    "sen2,info=nk.entropy_shannon(x5p,symbolize=5)\n",
    "maxen2, _ = nk.entropy_maximum(x5p)\n",
    "sen3,info=nk.entropy_shannon(x10p,symbolize=5)\n",
    "maxen3, _ = nk.entropy_maximum(x10p)"
   ]
  },
  {
   "cell_type": "code",
   "execution_count": 29,
   "id": "a85fb873",
   "metadata": {},
   "outputs": [
    {
     "name": "stdout",
     "output_type": "stream",
     "text": [
      "2.3111383539381882 2.309597307483913 2.2991700333970293 2.289595975073257 1.6405629764049545\n"
     ]
    }
   ],
   "source": [
    "print(sen0,sen1,sen2,sen3,sen0n)"
   ]
  },
  {
   "cell_type": "code",
   "execution_count": 30,
   "id": "205013c8",
   "metadata": {},
   "outputs": [
    {
     "name": "stdout",
     "output_type": "stream",
     "text": [
      "13.287712379549449 13.287712379549449 13.287712379549449 13.287712379549449 13.287712379549449\n"
     ]
    }
   ],
   "source": [
    "print(maxen0,maxen1,maxen2,maxen3,maxen0n)"
   ]
  },
  {
   "cell_type": "code",
   "execution_count": 31,
   "id": "90d8bfb5",
   "metadata": {},
   "outputs": [],
   "source": [
    "apen0n,info=nk.entropy_approximate(rn)\n",
    "\n",
    "apen0,info=nk.entropy_approximate(xs)\n",
    "apen1,info=nk.entropy_approximate(x1p)\n",
    "apen2,info=nk.entropy_approximate(x5p)\n",
    "apen3,info=nk.entropy_approximate(x10p)\n"
   ]
  },
  {
   "cell_type": "code",
   "execution_count": 32,
   "id": "f576266c",
   "metadata": {},
   "outputs": [
    {
     "name": "stdout",
     "output_type": "stream",
     "text": [
      "0.3783066564165174 0.3818815020166335 0.4540415284080903 0.6454602934766545 2.205217737318658\n"
     ]
    }
   ],
   "source": [
    "print(apen0,apen1,apen2,apen3,apen0n)"
   ]
  },
  {
   "cell_type": "code",
   "execution_count": 33,
   "id": "a9281c20",
   "metadata": {},
   "outputs": [],
   "source": [
    "samen0n,info=nk.entropy_sample(rn)\n",
    "\n",
    "samen0,info=nk.entropy_sample(xs)\n",
    "samen1,info=nk.entropy_sample(x1ps)\n",
    "samen2,info=nk.entropy_sample(x5ps)\n",
    "samen3,info=nk.entropy_sample(x10ps)"
   ]
  },
  {
   "cell_type": "code",
   "execution_count": 34,
   "id": "3fbc705f",
   "metadata": {},
   "outputs": [
    {
     "name": "stdout",
     "output_type": "stream",
     "text": [
      "0.3588597541809425 0.36216113460782473 0.43350380874226513 0.6056942002094147 2.1804263840345888\n"
     ]
    }
   ],
   "source": [
    "print(samen0,samen1,samen2,samen3,samen0n)"
   ]
  },
  {
   "cell_type": "code",
   "execution_count": 35,
   "id": "f48713a9",
   "metadata": {},
   "outputs": [],
   "source": [
    "kf0n,info=nk.fractal_katz(rn)\n",
    "kf0,info=nk.fractal_katz(x)\n",
    "kf1,info=nk.fractal_katz(x1p)\n",
    "kf2,info=nk.fractal_katz(x5p)\n",
    "kf3,info=nk.fractal_katz(x10p)"
   ]
  },
  {
   "cell_type": "code",
   "execution_count": 36,
   "id": "d0eb756d",
   "metadata": {},
   "outputs": [
    {
     "name": "stdout",
     "output_type": "stream",
     "text": [
      "3.0280623067367802 3.021519649964437 3.0984679741593526 3.41307811561024 6.6583979721895625\n"
     ]
    }
   ],
   "source": [
    "print(kf0,kf1,kf2,kf3,kf0n)"
   ]
  },
  {
   "cell_type": "code",
   "execution_count": 37,
   "id": "206c0553",
   "metadata": {},
   "outputs": [],
   "source": [
    "pe0n,info=nk.entropy_permutation(rn, conditional=True, algorithm=nk.entropy_renyi, alpha=2)\n",
    "pe0,info=nk.entropy_permutation(x, conditional=True, algorithm=nk.entropy_renyi, alpha=2)\n",
    "pe1,info=nk.entropy_permutation(x1p, conditional=True, algorithm=nk.entropy_renyi, alpha=2)\n",
    "pe2,info=nk.entropy_permutation(x5p, conditional=True, algorithm=nk.entropy_renyi, alpha=2)\n",
    "pe3,info=nk.entropy_permutation(x10p, conditional=True, algorithm=nk.entropy_renyi, alpha=2)"
   ]
  },
  {
   "cell_type": "code",
   "execution_count": 38,
   "id": "3a91e9b6",
   "metadata": {},
   "outputs": [
    {
     "name": "stdout",
     "output_type": "stream",
     "text": [
      "0.014822343218552374 0.015829290412145685 0.07020595678333888 0.17525211415618333 0.30169412210966706\n"
     ]
    }
   ],
   "source": [
    "print(pe0,pe1,pe2,pe3,pe0n)"
   ]
  },
  {
   "cell_type": "code",
   "execution_count": 39,
   "id": "ccf90a29",
   "metadata": {},
   "outputs": [
    {
     "data": {
      "image/png": "[encoded data removed]",
      "text/plain": [
       "<Figure size 640x480 with 1 Axes>"
      ]
     },
     "metadata": {},
     "output_type": "display_data"
    }
   ],
   "source": [
    "le0n,info=nk.complexity_lyapunov(rn,dimension=3,delay=1,method=\"makowski\", show=True)\n",
    "le0,info=nk.complexity_lyapunov(x,dimension=3,delay=12,method=\"makowski\", show=True)\n",
    "le1,info=nk.complexity_lyapunov(x1p,dimension=3,delay=12,method=\"makowski\", show=True)\n",
    "le2,info=nk.complexity_lyapunov(x5p,dimension=3,delay=12,method=\"makowski\", show=True)\n",
    "le3,info=nk.complexity_lyapunov(x10p,dimension=3,delay=12,method=\"makowski\", show=True)\n"
   ]
  },
  {
   "cell_type": "code",
   "execution_count": 40,
   "id": "0e913f92",
   "metadata": {},
   "outputs": [
    {
     "name": "stdout",
     "output_type": "stream",
     "text": [
      "0.005720423021199934 0.005571312283342174 0.0045946318011667224 0.003558583567321612 0.4237886703726146\n"
     ]
    }
   ],
   "source": [
    "print(le0,le1,le2,le3,le0n)"
   ]
  },
  {
   "cell_type": "code",
   "execution_count": 41,
   "id": "3869532b",
   "metadata": {},
   "outputs": [],
   "source": [
    "d20n,info=nk.fractal_correlation(rn,dimension=3,delay=1)\n",
    "d20,info=nk.fractal_correlation(x,dimension=3,delay=12)\n",
    "d21,info=nk.fractal_correlation(x1p,dimension=3,delay=12)\n",
    "d22,info=nk.fractal_correlation(x5p,dimension=3,delay=12)\n",
    "d23,info=nk.fractal_correlation(x10p,dimension=3,delay=12)"
   ]
  },
  {
   "cell_type": "code",
   "execution_count": 42,
   "id": "8749466a",
   "metadata": {},
   "outputs": [
    {
     "name": "stdout",
     "output_type": "stream",
     "text": [
      "1.8107634427995654 1.8153621349097184 1.9516773218067462 2.1874221985278437 2.4764774085811734\n"
     ]
    }
   ],
   "source": [
    "print(d20,d21,d22,d23,d20n)"
   ]
  },
  {
   "cell_type": "code",
   "execution_count": 43,
   "id": "c26b2c94",
   "metadata": {},
   "outputs": [],
   "source": [
    "h0n,info=nk.fractal_hurst(rn,corrected=True)\n",
    "h0,info=nk.fractal_hurst(x,corrected=True)\n",
    "h1,info=nk.fractal_hurst(x1p,corrected=True)\n",
    "h2,info=nk.fractal_hurst(x5p,corrected=True)\n",
    "h3,info=nk.fractal_hurst(x10p,corrected=True) "
   ]
  },
  {
   "cell_type": "code",
   "execution_count": 44,
   "id": "5f0cdc6c",
   "metadata": {},
   "outputs": [
    {
     "name": "stdout",
     "output_type": "stream",
     "text": [
      "0.25407779666688013 0.25405302361265203 0.2551699777174748 0.2569156857099745 0.509713010126725\n"
     ]
    }
   ],
   "source": [
    "print(h0,h1,h2,h3,h0n)"
   ]
  },
  {
   "cell_type": "markdown",
   "id": "958ef674",
   "metadata": {},
   "source": [
    "## Periodic changes"
   ]
  },
  {
   "cell_type": "code",
   "execution_count": 46,
   "id": "e7bbfc4c",
   "metadata": {},
   "outputs": [],
   "source": [
    "x13=rk(0)"
   ]
  },
  {
   "cell_type": "code",
   "execution_count": 48,
   "id": "1ca31e66",
   "metadata": {},
   "outputs": [],
   "source": [
    "x8p7=rk(0)"
   ]
  },
  {
   "cell_type": "code",
   "execution_count": 50,
   "id": "783b43ce",
   "metadata": {},
   "outputs": [],
   "source": [
    "x4=rk(0)"
   ]
  },
  {
   "cell_type": "code",
   "execution_count": 51,
   "id": "2aa0b2ba",
   "metadata": {},
   "outputs": [
    {
     "name": "stdout",
     "output_type": "stream",
     "text": [
      "1.020834555570553 1.0210176231372787 1.0199879164634242 1.0194382480822877\n"
     ]
    }
   ],
   "source": [
    "print(hfda.measure(x, 10),hfda.measure(x13, 10),hfda.measure(x8p7, 10),hfda.measure(x4, 10))"
   ]
  },
  {
   "cell_type": "code",
   "execution_count": 56,
   "id": "468df3f6",
   "metadata": {},
   "outputs": [
    {
     "data": {
      "text/plain": [
       "[<matplotlib.lines.Line2D at 0x70fde6f7ebd0>]"
      ]
     },
     "execution_count": 56,
     "metadata": {},
     "output_type": "execute_result"
    },
    {
     "data": {
      "image/png": "[encoded data removed]",
      "text/plain": [
       "<Figure size 640x480 with 1 Axes>"
      ]
     },
     "metadata": {},
     "output_type": "display_data"
    }
   ],
   "source": [
    "plt.plot(x[0:1000])"
   ]
  },
  {
   "cell_type": "code",
   "execution_count": 57,
   "id": "5ac7f053",
   "metadata": {},
   "outputs": [],
   "source": [
    "mse0 = nk.complexity_mse(x, dimension=1)[0]\n",
    "mse1 = nk.complexity_mse(x13, dimension=1)[0]\n",
    "mse2 = nk.complexity_mse(x8p7, dimension=1)[0]\n",
    "mse3 = nk.complexity_mse(x4, dimension=1)[0]"
   ]
  },
  {
   "cell_type": "code",
   "execution_count": 58,
   "id": "804ecec5",
   "metadata": {},
   "outputs": [
    {
     "name": "stdout",
     "output_type": "stream",
     "text": [
      "0.09004426313225164 0.094298474265763 0.08192584617675905 0.064626792724444\n"
     ]
    }
   ],
   "source": [
    "print(mse0,mse1,mse2,mse3)"
   ]
  },
  {
   "cell_type": "code",
   "execution_count": 59,
   "id": "664b3dbf",
   "metadata": {},
   "outputs": [],
   "source": [
    "lzv0,info=nk.complexity_lempelziv(x)\n",
    "lzv1,info=nk.complexity_lempelziv(x13)\n",
    "lzv2,info=nk.complexity_lempelziv(x8p7)\n",
    "lzv3,info=nk.complexity_lempelziv(x4)"
   ]
  },
  {
   "cell_type": "code",
   "execution_count": 60,
   "id": "5b01c278",
   "metadata": {},
   "outputs": [
    {
     "name": "stdout",
     "output_type": "stream",
     "text": [
      "0.0651097906597923 0.03321928094887362 0.037205594662738456 0.010630169903639559\n"
     ]
    }
   ],
   "source": [
    "print(lzv0,lzv1,lzv2,lzv3)"
   ]
  },
  {
   "cell_type": "code",
   "execution_count": 61,
   "id": "cb900e5a",
   "metadata": {},
   "outputs": [],
   "source": [
    "def tau(x):\n",
    "    mu=np.mean(x)\n",
    "    sig2=np.var(x)\n",
    "    xn=x-mu\n",
    "    acf=np.correlate(xn,xn,'full')[len(xn)-1:]\n",
    "    acf=acf/sig2/len(xn)\n",
    "    tau=np.where(acf<(1./np.exp(1)))[0][0]\n",
    "    return(tau)"
   ]
  },
  {
   "cell_type": "code",
   "execution_count": 62,
   "id": "818c3bc8",
   "metadata": {},
   "outputs": [
    {
     "name": "stdout",
     "output_type": "stream",
     "text": [
      "Calculating recurrence plot at fixed recurrence rate...\n",
      "Calculating the supremum distance matrix...\n",
      "Calculating recurrence plot at fixed recurrence rate...\n",
      "Calculating the supremum distance matrix...\n",
      "Calculating recurrence plot at fixed recurrence rate...\n",
      "Calculating the supremum distance matrix...\n",
      "Calculating recurrence plot at fixed recurrence rate...\n",
      "Calculating the supremum distance matrix...\n"
     ]
    }
   ],
   "source": [
    "r0=put.recurrence_plot.RecurrencePlot(x,dim=3,tau=tau(x),recurrence_rate=.1)\n",
    "q0=[r0.determinism(),r0.laminarity(),r0.diag_entropy(),r0.vert_entropy(),r0.average_diaglength(),r0.trapping_time()]\n",
    "\n",
    "r1=put.recurrence_plot.RecurrencePlot(x13,dim=3,tau=tau(x13),recurrence_rate=.1)\n",
    "q1=[r1.determinism(),r1.laminarity(),r1.diag_entropy(),r1.vert_entropy(),r1.average_diaglength(),r1.trapping_time()]\n",
    "\n",
    "r2=put.recurrence_plot.RecurrencePlot(x8p7,dim=3,tau=tau(x8p7),recurrence_rate=.1)\n",
    "q2=[r2.determinism(),r2.laminarity(),r2.diag_entropy(),r2.vert_entropy(),r2.average_diaglength(),r2.trapping_time()]\n",
    "\n",
    "r3=put.recurrence_plot.RecurrencePlot(x4,dim=3,tau=tau(x4),recurrence_rate=.1)\n",
    "q3=[r3.determinism(),r3.laminarity(),r3.diag_entropy(),r3.vert_entropy(),r3.average_diaglength(),r3.trapping_time()]"
   ]
  },
  {
   "cell_type": "code",
   "execution_count": 63,
   "id": "124623a5",
   "metadata": {},
   "outputs": [
    {
     "name": "stdout",
     "output_type": "stream",
     "text": [
      "[0.9946423675211551, 0.9957509273964943, 3.331606859055002, 2.114220371185736, 27.61219885405304, 6.772903511535689] [0.9945106032180795, 0.9961584806831788, 3.0916112098853272, 2.265938969050862, 27.2805279799572, 7.355656181786021] [0.9961768563519898, 0.9994788011643012, 3.300992823014045, 1.7550118706074311, 33.661208314639204, 6.061837406301383] [0.9970979903995897, 0.9999685491997018, 2.5369037339721072, 0.8586551656160868, 56.249072277258236, 5.996334740669158]\n"
     ]
    }
   ],
   "source": [
    "print(q0,q1,q2,q3)"
   ]
  },
  {
   "cell_type": "code",
   "execution_count": 65,
   "id": "c5f598da",
   "metadata": {},
   "outputs": [],
   "source": [
    "apen0,info=nk.entropy_approximate(x)\n",
    "apen1,info=nk.entropy_approximate(x13)\n",
    "apen2,info=nk.entropy_approximate(x8p7)\n",
    "apen3,info=nk.entropy_approximate(x4)"
   ]
  },
  {
   "cell_type": "code",
   "execution_count": 66,
   "id": "6bf967b2",
   "metadata": {},
   "outputs": [
    {
     "name": "stdout",
     "output_type": "stream",
     "text": [
      "0.3783066564165174 0.3962518373920805 0.3368048887776185 0.2738154633180936\n"
     ]
    }
   ],
   "source": [
    "print(apen0,apen1,apen2,apen3)"
   ]
  },
  {
   "cell_type": "code",
   "execution_count": 67,
   "id": "991b5ffa",
   "metadata": {},
   "outputs": [],
   "source": [
    "\n",
    "samen2,info=nk.entropy_sample(x8p7)\n",
    "samen3,info=nk.entropy_sample(x4)"
   ]
  },
  {
   "cell_type": "code",
   "execution_count": 68,
   "id": "a520a7d0",
   "metadata": {},
   "outputs": [
    {
     "name": "stdout",
     "output_type": "stream",
     "text": [
      "0.3154660691245247 0.2364008301705868\n"
     ]
    }
   ],
   "source": [
    "print(samen2,samen3)"
   ]
  },
  {
   "cell_type": "code",
   "execution_count": 71,
   "id": "6d0581df",
   "metadata": {},
   "outputs": [],
   "source": [
    "kf,info=nk.fractal_katz(x)\n",
    "kf2,info=nk.fractal_katz(x8p7)\n",
    "kf3,info=nk.fractal_katz(x4)"
   ]
  },
  {
   "cell_type": "code",
   "execution_count": 72,
   "id": "8b5b41e2",
   "metadata": {},
   "outputs": [
    {
     "name": "stdout",
     "output_type": "stream",
     "text": [
      "3.0280623067367802 2.9736024587866194 2.7711526061406895\n"
     ]
    }
   ],
   "source": [
    "print(kf,kf2,kf3)"
   ]
  },
  {
   "cell_type": "code",
   "execution_count": 73,
   "id": "a9621a1d",
   "metadata": {},
   "outputs": [],
   "source": [
    "\n",
    "pe2,info=nk.entropy_permutation(x8p7, conditional=True, algorithm=nk.entropy_renyi, alpha=2)\n",
    "pe3,info=nk.entropy_permutation(x4, conditional=True, algorithm=nk.entropy_renyi, alpha=2)"
   ]
  },
  {
   "cell_type": "code",
   "execution_count": 75,
   "id": "7fa8a8cd",
   "metadata": {},
   "outputs": [
    {
     "name": "stdout",
     "output_type": "stream",
     "text": [
      "0.014822343218552374 0.015005330010900764 0.015138865576600501\n"
     ]
    }
   ],
   "source": [
    "print(pe0,pe2,pe3)"
   ]
  },
  {
   "cell_type": "code",
   "execution_count": 78,
   "id": "9f86248e",
   "metadata": {},
   "outputs": [
    {
     "data": {
      "image/png": "[encoded data removed]",
      "text/plain": [
       "<Figure size 640x480 with 1 Axes>"
      ]
     },
     "metadata": {},
     "output_type": "display_data"
    }
   ],
   "source": [
    "le2,info=nk.complexity_lyapunov(x8p7,dimension=3,delay=tau(x8p7),method=\"makowski\", show=True)\n",
    "le3,info=nk.complexity_lyapunov(x4,dimension=3,delay=tau(x4),method=\"makowski\", show=True)"
   ]
  },
  {
   "cell_type": "code",
   "execution_count": 79,
   "id": "fc4a736a",
   "metadata": {},
   "outputs": [
    {
     "name": "stdout",
     "output_type": "stream",
     "text": [
      "0.005119091513695384 2.1865758495067388e-05\n"
     ]
    }
   ],
   "source": [
    "print(le2,le3)"
   ]
  },
  {
   "cell_type": "code",
   "execution_count": 80,
   "id": "1a7ac0c3",
   "metadata": {},
   "outputs": [],
   "source": [
    "d22,info=nk.fractal_correlation(x8p7,dimension=3,delay=tau(x8p7))\n",
    "d23,info=nk.fractal_correlation(x4,dimension=3,delay=tau(x4))"
   ]
  },
  {
   "cell_type": "code",
   "execution_count": 81,
   "id": "f7c6e0c1",
   "metadata": {},
   "outputs": [
    {
     "name": "stdout",
     "output_type": "stream",
     "text": [
      "1.5798861825394133 1.0080055752059711\n"
     ]
    }
   ],
   "source": [
    "print(d22,d23)"
   ]
  },
  {
   "cell_type": "code",
   "execution_count": 82,
   "id": "2572bbab",
   "metadata": {},
   "outputs": [],
   "source": [
    "h2,info=nk.fractal_hurst(x8p7,corrected=True)\n",
    "h3,info=nk.fractal_hurst(x4,corrected=True) "
   ]
  },
  {
   "cell_type": "code",
   "execution_count": 83,
   "id": "58aeb988",
   "metadata": {},
   "outputs": [
    {
     "name": "stdout",
     "output_type": "stream",
     "text": [
      "0.24130420610907422 0.21845576977646064\n"
     ]
    }
   ],
   "source": [
    "print(h2,h3)"
   ]
  },
  {
   "cell_type": "code",
   "execution_count": 84,
   "id": "e3f3f21e",
   "metadata": {},
   "outputs": [],
   "source": [
    "sen2,info=nk.entropy_shannon(x8p7,symbolize=5)\n",
    "maxen2, _ = nk.entropy_maximum(x8p7)\n",
    "sen3,info=nk.entropy_shannon(x4,symbolize=5)\n",
    "maxen3, _ = nk.entropy_maximum(x4)"
   ]
  },
  {
   "cell_type": "code",
   "execution_count": 86,
   "id": "305691a3",
   "metadata": {},
   "outputs": [
    {
     "name": "stdout",
     "output_type": "stream",
     "text": [
      "2.288619684187488 2.2165506519575864 2.3111383539381882\n"
     ]
    }
   ],
   "source": [
    "print(sen2,sen3,sen0)"
   ]
  },
  {
   "cell_type": "code",
   "execution_count": null,
   "id": "4d6d29ef",
   "metadata": {},
   "outputs": [],
   "source": []
  }
 ],
 "metadata": {
  "kernelspec": {
   "display_name": "Python 3 (ipykernel)",
   "language": "python",
   "name": "python3"
  },
  "language_info": {
   "codemirror_mode": {
    "name": "ipython",
    "version": 3
   },
   "file_extension": ".py",
   "mimetype": "text/x-python",
   "name": "python",
   "nbconvert_exporter": "python",
   "pygments_lexer": "ipython3",
   "version": "3.11.3"
  }
 },
 "nbformat": 4,
 "nbformat_minor": 5
}
